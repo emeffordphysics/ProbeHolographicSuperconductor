{
 "cells": [
  {
   "cell_type": "markdown",
   "id": "4e6f2d49",
   "metadata": {},
   "source": [
    "# The hydrodynamics of a probe holographic superconductor"
   ]
  },
  {
   "cell_type": "markdown",
   "id": "c0667163",
   "metadata": {},
   "source": [
    "## Equations"
   ]
  },
  {
   "cell_type": "markdown",
   "id": "68b0d188",
   "metadata": {},
   "source": [
    "Import necessary packages"
   ]
  },
  {
   "cell_type": "code",
   "execution_count": 1,
   "id": "ac0b1087",
   "metadata": {},
   "outputs": [],
   "source": [
    "from sympy import *\n",
    "from Einstein import Spacetime\n",
    "from EquationsOfMotion import EOMs\n",
    "from PseudospectralGrid import Grid\n",
    "from Linearize import Linearize\n",
    "from NewtonRaphson import ODE\n",
    "from ODEEigenvalue import Eigenvalue\n",
    "import numpy as np\n",
    "import mpmath as mp\n",
    "import time"
   ]
  },
  {
   "cell_type": "markdown",
   "id": "ef4048b3",
   "metadata": {},
   "source": [
    "Define variables and spacetime dimension"
   ]
  },
  {
   "cell_type": "code",
   "execution_count": 2,
   "id": "f58a1a34",
   "metadata": {},
   "outputs": [],
   "source": [
    "from sympy import symbols\n",
    "\n",
    "r = symbols('r', positive=True)\n",
    "t, x, y, dt, dr, dx, dy, M, q, mu, mus, omega, kwave = symbols(\n",
    "    't x y dt dr dx dy M q mu mu_s omega k'\n",
    ")\n",
    "\n",
    "co = [t, r, x, y]\n",
    "dco = [dt, dr, dx, dy]\n",
    "dim = len(co)"
   ]
  },
  {
   "cell_type": "markdown",
   "id": "a0cd6146",
   "metadata": {},
   "source": [
    "Define line element and run Einstein module for GR quantities"
   ]
  },
  {
   "cell_type": "code",
   "execution_count": 3,
   "id": "c3efea7f",
   "metadata": {},
   "outputs": [],
   "source": [
    "f = Function('f')(r)\n",
    "ds2 = (r**(-2))*(-f*(dt**2) + (dr**2)/f + dx**2 + dy**2)\n",
    "spacetime = Spacetime(ds2, co, dco)"
   ]
  },
  {
   "cell_type": "markdown",
   "id": "68d553b5",
   "metadata": {},
   "source": [
    "Define fields"
   ]
  },
  {
   "cell_type": "code",
   "execution_count": 4,
   "id": "320e0be8",
   "metadata": {},
   "outputs": [],
   "source": [
    "Psi = Function('Psi')(*co)  # The scalar field\n",
    "Psibar = Function('Psi^*')(*co)  # Complex conjugate\n",
    "\n",
    "Amax = [\n",
    "    Function('At')(*co),\n",
    "    Function('Ar')(*co),\n",
    "    Function('Ax')(*co),\n",
    "    Function('Ay')(*co)\n",
    "]  # The Maxwell field\n",
    "\n",
    "Fab = [\n",
    "    [\n",
    "        diff(Amax[j], co[i]) - diff(Amax[i], co[j]) for j in range(dim)\n",
    "    ] for i in range(dim)\n",
    "]  # Field strength F_ab := d_a A_b - d_b A_a\n",
    "\n",
    "# The complex scalar field, chosen to be just a function of r\n",
    "psi = Function('psi')(r)\n",
    "\n",
    "# Perturbations have plane wave dependence\n",
    "sigmar = Function('sigma_r')(r)\n",
    "sigmai = Function('sigma_i')(r)\n",
    "deltapsi = (sigmar + I * sigmai) * exp(-I * (omega * t - kwave * x))\n",
    "deltapsibar = (sigmar - I * sigmai) * exp(-I * (omega * t - kwave * x))\n",
    "\n",
    "# Background Maxwell has A_t and A_x\n",
    "phi = Function('phi')(r)\n",
    "zeta = Function('zeta')(r)\n",
    "Aback = [phi, 0, zeta, 0]\n",
    "\n",
    "at = Function('at')(r)\n",
    "ax = Function('ax')(r)\n",
    "deltaA = [\n",
    "    at * exp(-I * (omega * t - kwave * x)),\n",
    "    0,\n",
    "    ax * exp(-I * (omega * t - kwave * x)),\n",
    "    0\n",
    "]\n",
    "\n",
    "background_fields = [psi, phi, zeta]\n",
    "linear_fields = [sigmar, sigmai, at, ax]\n"
   ]
  },
  {
   "cell_type": "markdown",
   "id": "a0036db6",
   "metadata": {},
   "source": [
    "Define Lagrangian, $\\mathcal{L} = \\sqrt{-g}\\left(\\frac{1}{4}F^2 + (\\partial_\\mu\\Psi - iqA_\\mu\\Psi)(\\partial^\\mu\\Psi^* + iqA^\\mu\\Psi^*) - V(\\Psi,\\Psi^*)\\right)$ and fix $q=1$"
   ]
  },
  {
   "cell_type": "code",
   "execution_count": 5,
   "id": "0ee04c1d",
   "metadata": {},
   "outputs": [],
   "source": [
    "# Fix q = 1\n",
    "q = 1\n",
    "\n",
    "# Define Lagrangian\n",
    "root_det = (-1 * spacetime.det_met()) ** Rational(1, 2)\n",
    "ginv = spacetime.inverse_metric()\n",
    "\n",
    "Lag_max_kin = Rational(1, 4) * sum([\n",
    "    sum([\n",
    "        sum([\n",
    "            sum([\n",
    "                Fab[a][b] * Fab[c][e] * ginv[a, c] * ginv[b, e]\n",
    "                for a in range(dim)\n",
    "            ])\n",
    "            for b in range(dim)\n",
    "        ])\n",
    "        for c in range(dim)\n",
    "    ])\n",
    "    for e in range(dim)\n",
    "])\n",
    "\n",
    "V_scalar = -(dim - 1) * (dim - 2) - 2 * Psi * Psibar\n",
    "\n",
    "Lag_scalar = V_scalar + Rational(1, 2) * sum([\n",
    "    sum([\n",
    "        ginv[a, b] * (\n",
    "            (diff(Psi, co[a]) - I * q * Amax[a] * Psi) *\n",
    "            (diff(Psibar, co[b]) + I * q * Amax[b] * Psibar) +\n",
    "            (diff(Psi, co[b]) - I * q * Amax[b] * Psi) *\n",
    "            (diff(Psibar, co[a]) + I * q * Amax[a] * Psibar)\n",
    "        )\n",
    "        for a in range(dim)\n",
    "    ])\n",
    "    for b in range(dim)\n",
    "])\n",
    "\n",
    "Lag = simplify(-1 * root_det * (Lag_max_kin + Lag_scalar))\n",
    "\n",
    "full_fields = [Psi, Psibar, Amax[0], Amax[1], Amax[2], Amax[3]]\n",
    "\n",
    "eoms = EOMs(co, Lag, full_fields).get_eoms()"
   ]
  },
  {
   "cell_type": "markdown",
   "id": "0506e1bd",
   "metadata": {},
   "source": [
    "Find equations of motion for the background"
   ]
  },
  {
   "cell_type": "code",
   "execution_count": 6,
   "id": "dc9b8e49",
   "metadata": {},
   "outputs": [],
   "source": [
    "back_subs = [\n",
    "    (Psi, psi),\n",
    "    (Psibar, psi),\n",
    "    (Amax[0], Aback[0]),\n",
    "    (Amax[1], 0),\n",
    "    (Amax[2], Aback[2]),\n",
    "    (Amax[3], 0),\n",
    "]\n",
    "\n",
    "# Redefine fields to extract boundary behavior\n",
    "field_red = [\n",
    "    (psi, r**2 * psi),\n",
    "    (phi, phi * (1 - r)),\n",
    "    (f, (1 - r) * (1 + r + r**2)),\n",
    "]\n",
    "\n",
    "eoms_red = [\n",
    "    simplify(numer(eom.subs(back_subs).subs(field_red)))\n",
    "    for eom in (eoms[0], eoms[2], eoms[4])\n",
    "]\n",
    "\n",
    "# Extract boundary behavior for better numerical stability\n",
    "eoms_fin = [\n",
    "    simplify(eoms_red[0] * (r**(-3)) / (1 - r)),\n",
    "    simplify(eoms_red[1] * r**(-4) / (1 - r)),\n",
    "    simplify(eoms_red[2] * r**(-4) / (1 - r)),\n",
    "]\n",
    "\n",
    "# Define boundary conditions\n",
    "bcs_lower = [\n",
    "    diff(psi, r).subs(r, 0),\n",
    "    phi.subs(r, 0) - mu,\n",
    "    zeta.subs(r, 0) - mus,\n",
    "]\n",
    "\n",
    "bcs_upper = [eoms_fin[i].subs(r, 1) for i in range(3)]\n",
    "\n",
    "BCs = [\n",
    "    [bcs_lower[0], bcs_upper[0]],\n",
    "    [bcs_lower[1], bcs_upper[1]],\n",
    "    [bcs_lower[2], bcs_upper[2]],\n",
    "]\n",
    "\n",
    "# Rewrite ODEs with coefficients of second derivatives equal to 1 for speed\n",
    "odes = [\n",
    "    psi.diff(r, r) - solve(Eq(eoms_fin[0], 0), psi.diff(r, r))[0],\n",
    "    phi.diff(r, r) - solve(Eq(eoms_fin[1], 0), phi.diff(r, r))[0],\n",
    "    zeta.diff(r, r) - solve(Eq(eoms_fin[2], 0), zeta.diff(r, r))[0],\n",
    "]"
   ]
  },
  {
   "cell_type": "markdown",
   "id": "3ebb5a6a",
   "metadata": {},
   "source": [
    "Find equations of motion for the fluctuations"
   ]
  },
  {
   "cell_type": "code",
   "execution_count": 7,
   "id": "c32d6958",
   "metadata": {},
   "outputs": [],
   "source": [
    "eps = symbols('epsilon')\n",
    "\n",
    "linear_subs = [\n",
    "    (Psi, psi + eps * deltapsi),\n",
    "    (Psibar, psi + eps * deltapsibar),\n",
    "    (Amax[0], Aback[0] + eps * deltaA[0]),\n",
    "    (Amax[1], 0),\n",
    "    (Amax[2], Aback[2] + eps * deltaA[2]),\n",
    "    (Amax[3], 0),\n",
    "]\n",
    "\n",
    "linear_eoms = [\n",
    "    simplify(numer(together(eq.subs(linear_subs).diff(eps).subs(eps, 0))))\n",
    "    for eq in (eoms[0], eoms[1], eoms[2], eoms[3], eoms[4])\n",
    "]\n",
    "\n",
    "# Impose ingoing boundary conditions\n",
    "ingoing_bcs = [\n",
    "    (sigmar, sigmar * (1 - r) ** (-I * omega / 3)),\n",
    "    (sigmai, sigmai * (1 - r) ** (-I * omega / 3)),\n",
    "    (at, at * (1 - r) ** (-I * omega / 3)),\n",
    "    (ax, ax * (1 - r) ** (-I * omega / 3)),\n",
    "]\n",
    "\n",
    "# Redefine fields\n",
    "lin_field_red = [\n",
    "    (sigmar, r * sigmar),\n",
    "    (sigmai, r * sigmai),\n",
    "    (at, (1 - r) * at),\n",
    "]\n",
    "\n",
    "linear_ing = [\n",
    "    simplify(\n",
    "        expand(\n",
    "            simplify(\n",
    "                expand(\n",
    "                    (1 - r) ** (-2)\n",
    "                    * numer(together(eom.subs(field_red).subs(ingoing_bcs).subs(lin_field_red)))\n",
    "                )\n",
    "            )\n",
    "        )\n",
    "    )\n",
    "    for eom in linear_eoms\n",
    "]\n",
    "\n",
    "# Since we want hydrodynamic modes with lim_{k->0} omega(k) = 0, extract a k\n",
    "linear_ing = [\n",
    "    simplify(\n",
    "        expand(simplify(numer(eq.subs(omega, kwave * omega))))\n",
    "    )\n",
    "    for eq in linear_ing\n",
    "]\n",
    "\n",
    "gauge_constraint = simplify(expand(linear_ing[3] / (r ** 2)))\n",
    "\n",
    "# The actual linearized equations to be solved\n",
    "linear_eoms = [\n",
    "    simplify((1 - r) ** (-8) * linear_ing[0] / (r ** -3)),\n",
    "    simplify((1 - r) ** (-8) * linear_ing[1] / (r ** -3)),\n",
    "    simplify(linear_ing[2] / (r ** -2)),\n",
    "    simplify(linear_ing[4] / (r ** -2)),\n",
    "]\n",
    "\n",
    "# Boundary conditions for linearized equations\n",
    "bchor_0 = simplify(expand(simplify(expand(linear_eoms[0])))).subs(r, 1)\n",
    "bchor_1 = simplify(expand(simplify(expand(linear_eoms[1])))).subs(r, 1)\n",
    "bchor_2 = simplify(expand(simplify(expand(linear_eoms[2] / omega)))).subs(r, 1)\n",
    "bchor_3 = simplify(expand(simplify(expand(linear_eoms[3])))).subs(r, 1)\n",
    "\n",
    "uv_gauge_constraint = simplify(gauge_constraint.subs(r, 0))\n",
    "ir_gauge_constraint = simplify(gauge_constraint.subs(r, 1) / (kwave * omega))\n",
    "\n",
    "lin_bc_lower = [\n",
    "    sigmar.subs(r, 0),\n",
    "    sigmai.subs(r, 0),\n",
    "    omega * ax.subs(r, 0) + at.subs(r, 0),\n",
    "    uv_gauge_constraint,\n",
    "]\n",
    "\n",
    "lin_bc_upper = [bchor_0, bchor_1, bchor_2, bchor_3]\n",
    "\n",
    "linear_bcs = [[lin_bc_lower[i], lin_bc_upper[i]] for i in range(len(lin_bc_lower))]\n"
   ]
  },
  {
   "cell_type": "markdown",
   "id": "c35a85e9",
   "metadata": {},
   "source": [
    "## Numerics"
   ]
  },
  {
   "cell_type": "markdown",
   "id": "f7042911",
   "metadata": {},
   "source": [
    "Set numerical precision and threshold for convergence"
   ]
  },
  {
   "cell_type": "code",
   "execution_count": 8,
   "id": "02dc873d",
   "metadata": {},
   "outputs": [],
   "source": [
    "MIN_PRECISION = 24\n",
    "mp.dps = MIN_PRECISION\n",
    "ERROR_MIN = N(10**(-18), MIN_PRECISION)\n",
    "ERROR_MAX = N(10**6, MIN_PRECISION)"
   ]
  },
  {
   "cell_type": "markdown",
   "id": "f33980b3",
   "metadata": {},
   "source": [
    "Set up pseudospectral grid"
   ]
  },
  {
   "cell_type": "code",
   "execution_count": 9,
   "id": "a487767c",
   "metadata": {},
   "outputs": [],
   "source": [
    "# Spatial grid\n",
    "NumPoints = 20\n",
    "r_min, r_max = 0, 1\n",
    "spatial_grid = Grid(NumPoints, r_min, r_max, MIN_PRECISION)\n",
    "r_vec = spatial_grid.get_grid()\n",
    "\n",
    "# Grid over chemical potential\n",
    "Num_mu = 6\n",
    "mu_min, mu_max = 5, 6\n",
    "mu_grid = Grid(Num_mu, mu_min, mu_max, MIN_PRECISION)\n",
    "mu_vec = mu_grid.get_grid()\n",
    "\n",
    "# Grid over superfluid velocity\n",
    "Num_mu_s = 6\n",
    "mu_s_min, mu_s_max = N(10**(-6),MIN_PRECISION), N(10**(-4),MIN_PRECISION)\n",
    "mu_s_grid = Grid(Num_mu_s, mu_s_min, mu_s_max, MIN_PRECISION)\n",
    "mu_s_vec = mu_s_grid.get_grid()"
   ]
  },
  {
   "cell_type": "markdown",
   "id": "9fd7272c",
   "metadata": {},
   "source": [
    "Instantiate a Newton-Raphson solver"
   ]
  },
  {
   "cell_type": "code",
   "execution_count": 10,
   "id": "87f143b1",
   "metadata": {},
   "outputs": [],
   "source": [
    "fields = [psi, phi, zeta]\n",
    "dfields = [Function('dpsi')(r), Function('dphi')(r), Function('dzeta')(r)]\n",
    "parameters = ['mu','mu_s']\n",
    "ODEsolver = ODE(eoms_fin, BCs, fields, dfields, parameters, spatial_grid, r, [0,1])"
   ]
  },
  {
   "cell_type": "markdown",
   "id": "e0f3ed89",
   "metadata": {},
   "source": [
    "Define seeds for the ODE solver"
   ]
  },
  {
   "cell_type": "code",
   "execution_count": 11,
   "id": "d44f411a",
   "metadata": {},
   "outputs": [],
   "source": [
    "psi_vec = Matrix([N(15*(1-r_vec[i]**2),MIN_PRECISION) for i in range(NumPoints+1)])\n",
    "phi_vec = Matrix([N(mu_min,MIN_PRECISION) for i in range(NumPoints+1)])\n",
    "zeta_vec = Matrix([N(mu_s_min,MIN_PRECISION) for i in range(NumPoints+1)])\n",
    "current_fields=[psi_vec, phi_vec, zeta_vec]"
   ]
  },
  {
   "cell_type": "markdown",
   "id": "edf5c9b3",
   "metadata": {},
   "source": [
    "Loop over mu and solve the ODE"
   ]
  },
  {
   "cell_type": "code",
   "execution_count": 12,
   "id": "2a12d736",
   "metadata": {},
   "outputs": [
    {
     "name": "stdout",
     "output_type": "stream",
     "text": [
      "0 0 5.85837654431612\n",
      "0 0 5.59525945827992\n",
      "0 0 5.36343138304239\n",
      "0 0 5.13903982979767\n",
      "0 0 4.92177126539502\n",
      "0 0 4.71131639179914\n",
      "0 0 4.51943711429245\n",
      "0 0 4.33854593991733\n",
      "0 0 4.16714549332607\n",
      "0 0 4.00818006736885\n",
      "0 0 3.86089907758649\n",
      "0 0 3.71923529340051\n",
      "0 0 3.57727638014579\n",
      "0 0 3.43513177647535\n",
      "0 0 3.29315722704224\n",
      "0 0 3.15169399067327\n",
      "0 0 3.01107128004675\n",
      "0 0 2.87160814678474\n",
      "0 0 2.73361489065708\n",
      "0 0 2.59739404714183\n",
      "0 0 2.46324098066992\n",
      "0 0 2.33144408114934\n",
      "0 0 2.20228453759706\n",
      "0 0 2.07603564645274\n",
      "0 0 1.95296161012466\n",
      "0 0 1.83331579424505\n",
      "0 0 1.71733844280488\n",
      "0 0 1.60525389439571\n",
      "0 0 1.49726739766722\n",
      "0 0 1.39356168106378\n",
      "0 0 1.29429348151056\n",
      "0 0 1.19959027183110\n",
      "0 0 1.10954743742385\n",
      "0 0 1.02422613646146\n",
      "0 0 0.943652035152678\n",
      "0 0 0.109402312073267\n",
      "0 0 0.00175083952769586\n",
      "0 0 3.44562818719398e-7\n",
      "0 0 2.88561595387387e-14\n",
      "0 0 1.28177416870951e-23\n",
      "0 0 1.11463968366662211992164e-23\n",
      "0 1 6.63174251267032e-6\n",
      "0 1 2.00240646301492e-11\n",
      "0 1 1.07127979643504e-22\n",
      "0 1 2.06409568984612562087453e-23\n",
      "0 2 1.81182574873297e-5\n",
      "0 2 1.49461653165735e-10\n",
      "0 2 4.83780914370322e-21\n",
      "0 2 1.14444191827625816187671e-23\n",
      "0 3 2.47500000000000e-5\n",
      "0 3 2.78899241905025e-10\n",
      "0 3 1.65561653960876e-20\n",
      "0 3 1.41847937608937013080663e-23\n",
      "0 4 2.47500000000000e-5\n",
      "0 4 2.78899242404140e-10\n",
      "0 4 1.66887482855714e-20\n",
      "0 4 3.62320484363300404417892e-23\n",
      "0 5 1.81182574873296e-5\n",
      "0 5 1.49461653917936e-10\n",
      "0 5 4.30769974107805e-21\n",
      "0 5 1.72873101989662626288935e-23\n",
      "0 6 6.63174251267031e-6\n",
      "0 6 2.00240647714236e-11\n",
      "0 6 7.81037324407515e-23\n",
      "0 6 3.33196485741092708356856e-23\n",
      "1 0 0.180961478799108\n",
      "1 0 0.00119108307423749\n",
      "1 0 2.55265873396718e-7\n",
      "1 0 1.90161787715611e-14\n",
      "1 0 3.92976541471195e-23\n",
      "1 0 2.68839973075007374174740e-23\n",
      "1 1 6.63174251267027e-6\n",
      "1 1 1.89905140365050e-11\n",
      "1 1 6.40081202920936e-23\n",
      "1 1 1.46321317587185418850977e-23\n",
      "1 2 1.81182574873297e-5\n",
      "1 2 1.41747126506710e-10\n",
      "1 2 4.24143701517301e-21\n",
      "1 2 2.94083505264476991996093e-23\n",
      "1 3 2.47499999999999e-5\n",
      "1 3 2.64503739147097e-10\n",
      "1 3 1.31812527314002e-20\n",
      "1 3 1.21271180537573561389836e-23\n",
      "1 4 2.47500000000000e-5\n",
      "1 4 2.64503739561500e-10\n",
      "1 4 1.26920456626609e-20\n",
      "1 4 4.58886870520788832522567e-23\n",
      "1 5 1.81182574873297e-5\n",
      "1 5 1.41747127125504e-10\n",
      "1 5 3.77854677826051e-21\n",
      "1 5 1.37709642692806492544693e-23\n",
      "1 6 6.63174251267028e-6\n",
      "1 6 1.89905141535375e-11\n",
      "1 6 1.28510266740439e-22\n",
      "1 6 1.39978849362674237296823e-23\n",
      "2 0 0.491801758169597\n",
      "2 0 0.00754159172761944\n",
      "2 0 8.54652150618802e-6\n",
      "2 0 2.57488306327133e-11\n",
      "2 0 1.30118778532094e-22\n",
      "2 0 8.41229538266813199319390e-24\n",
      "2 1 6.63174251267030e-6\n",
      "2 1 1.68051533645225e-11\n",
      "2 1 6.37795315137968e-22\n",
      "2 1 4.04770397471168839279063e-23\n",
      "2 2 1.81182574873297e-5\n",
      "2 2 1.25435372374296e-10\n",
      "2 2 9.81694954269278e-21\n",
      "2 2 1.70414947909623167729309e-23\n",
      "2 3 2.47500000000001e-5\n",
      "2 3 2.34065591482947e-10\n",
      "2 3 6.03459515069416e-21\n",
      "2 3 2.72500627359520253665832e-23\n",
      "2 4 2.47500000000000e-5\n",
      "2 4 2.34065591796153e-10\n",
      "2 4 9.58387668891657e-21\n",
      "2 4 1.60028959703525115090417e-23\n",
      "2 5 1.81182574873297e-5\n",
      "2 5 1.25435372753970e-10\n",
      "2 5 1.90374066735285e-21\n",
      "2 5 1.36049950293425977981508e-23\n",
      "2 6 6.63174251267027e-6\n",
      "2 6 1.68051534294357e-11\n",
      "2 6 2.41357099272793e-22\n",
      "2 6 6.31758136002963023282597e-24\n",
      "3 0 0.667561121541426\n",
      "3 0 0.0106638081998678\n",
      "3 0 1.21559538989766e-5\n",
      "3 0 8.26865557284847e-11\n",
      "3 0 3.31820305070120e-21\n",
      "3 0 1.70226990991458635372926e-23\n",
      "3 1 6.63174251267028e-6\n",
      "3 1 1.48100027746678e-11\n",
      "3 1 2.25244650174824e-22\n",
      "3 1 2.08376287574527137101403e-23\n",
      "3 2 1.81182574873298e-5\n",
      "3 2 1.10543365639892e-10\n",
      "3 2 2.03740670365310e-21\n",
      "3 2 6.18946190701289712474046e-23\n",
      "3 3 2.47500000000000e-5\n",
      "3 3 2.06276728587875e-10\n",
      "3 3 1.45709041116924e-20\n",
      "3 3 2.40280366854717730139621e-23\n",
      "3 4 2.47500000000000e-5\n",
      "3 4 2.06276728737322e-10\n",
      "3 4 1.19090325130723e-20\n",
      "3 4 4.50550834028113174656739e-23\n",
      "3 5 1.81182574873297e-5\n",
      "3 5 1.10543365832498e-10\n",
      "3 5 5.72988311541813e-21\n",
      "3 5 1.93033683237160863810614e-23\n",
      "3 6 6.63174251267029e-6\n",
      "3 6 1.48100027958678e-11\n",
      "3 6 6.75386535235829e-22\n",
      "3 6 1.91527589670805477585600e-23\n",
      "4 0 0.670566836361571\n",
      "4 0 0.00807214132474179\n",
      "4 0 7.15825109623704e-6\n",
      "4 0 2.07051919449144e-11\n",
      "4 0 3.49048649907590e-22\n",
      "4 0 9.57256344457758343696593e-24\n",
      "4 1 6.63174251267028e-6\n",
      "4 1 1.34896458655890e-11\n",
      "4 1 4.27275970360454e-22\n",
      "4 1 9.54791398557955378000374e-24\n",
      "4 2 1.81182574873297e-5\n",
      "4 2 1.00688087497890e-10\n",
      "4 2 3.49901663634885e-21\n",
      "4 2 1.85272501250871758437376e-23\n",
      "4 3 2.47500000000000e-5\n",
      "4 3 1.87886529155118e-10\n",
      "4 3 5.00982668879939e-21\n",
      "4 3 1.55490316547572018884702e-23\n",
      "4 4 2.47500000000000e-5\n",
      "4 4 1.87886529213383e-10\n",
      "4 4 1.38990646360774e-20\n",
      "4 4 1.87118460801884886451387e-23\n",
      "4 5 1.81182574873297e-5\n",
      "4 5 1.00688087693096e-10\n",
      "4 5 3.74735852966052e-21\n",
      "4 5 2.65866768137408949878130e-23\n",
      "4 6 6.63174251267028e-6\n",
      "4 6 1.34896458909159e-11\n",
      "4 6 3.37357089736245e-22\n",
      "4 6 2.90511112472496166901924e-23\n",
      "5 0 0.497805682720185\n",
      "5 0 0.00350368155539446\n",
      "5 0 1.40613802072589e-6\n",
      "5 0 5.61240608054278e-13\n",
      "5 0 5.20557215120123e-23\n",
      "5 0 2.84707169254044974928697e-23\n",
      "5 1 6.63174251267028e-6\n",
      "5 1 1.27886825645440e-11\n",
      "5 1 5.78632355167775e-22\n",
      "5 1 4.45435673832318139377869e-23\n",
      "5 2 1.81182574873297e-5\n",
      "5 2 9.54560261831339e-11\n",
      "5 2 9.95527664498965e-22\n",
      "5 2 1.06785526577108439941978e-23\n",
      "5 3 2.47500000000000e-5\n",
      "5 3 1.78123369811318e-10\n",
      "5 3 4.04560494053649e-21\n",
      "5 3 3.50960498135216770046675e-23\n",
      "5 4 2.47500000000000e-5\n",
      "5 4 1.78123369901874e-10\n",
      "5 4 3.89655779946289e-21\n",
      "5 4 6.86873676703581598117268e-23\n",
      "5 5 1.81182574873297e-5\n",
      "5 5 9.54560262586699e-11\n",
      "5 5 1.88974815787754e-21\n",
      "5 5 2.37632389713504586044592e-23\n",
      "5 6 6.63174251267027e-6\n",
      "5 6 1.27886825668881e-11\n",
      "5 6 1.64560526755432e-22\n",
      "5 6 4.79534616483256325900595e-23\n",
      "6 0 0.184795010933099\n",
      "6 0 0.000527751073377799\n",
      "6 0 2.03277368097848e-8\n",
      "6 0 9.71242673947332e-17\n",
      "6 0 1.45265437410656e-23\n",
      "6 0 2.17361311239193984119329e-23\n",
      "6 1 6.63174251267028e-6\n",
      "6 1 1.25728237031194e-11\n",
      "6 1 4.40282014300391e-22\n",
      "6 1 3.61940746411879786445381e-23\n",
      "6 2 1.81182574873297e-5\n",
      "6 2 9.38448337073664e-11\n",
      "6 2 5.80276047386258e-21\n",
      "6 2 4.02431896384016518639515e-23\n",
      "6 3 2.47500000000000e-5\n",
      "6 3 1.75116843749017e-10\n",
      "6 3 4.29445330013885e-21\n",
      "6 3 7.12305320611022095995555e-23\n",
      "6 4 2.47500000000000e-5\n",
      "6 4 1.75116843788548e-10\n",
      "6 4 1.42220090973879e-21\n",
      "6 4 1.90794586219564684327502e-23\n",
      "6 5 1.81182574873297e-5\n",
      "6 5 9.38448338557070e-11\n",
      "6 5 1.05372422127623e-21\n",
      "6 5 7.59021713217911512824724e-23\n",
      "6 6 6.63174251267029e-6\n",
      "6 6 1.25728237481475e-11\n",
      "6 6 5.78019504675852e-23\n",
      "6 6 2.74684740515182612758118e-23\n"
     ]
    }
   ],
   "source": [
    "# sol_tab = [[[] for _ in range(Num_mu_s+1)] for _ in range(Num_mu+1)]\n",
    "sol_tab = []\n",
    "for i in range(Num_mu+1):\n",
    "    mu_sol_tab = []\n",
    "    for l in range(Num_mu_s+1):\n",
    "        # Start with numpy arrays as this is much faster\n",
    "        eps = 1\n",
    "        while ERROR_MIN < eps < ERROR_MAX:\n",
    "            df = ODEsolver.step(\n",
    "                current_fields,\n",
    "                {'mu': mu_vec[i], 'mu_s': mu_s_vec[l]},\n",
    "                print_time=False,\n",
    "                as_numpy=True,\n",
    "            )\n",
    "            eps = max(abs(df))\n",
    "            for j in range(len(current_fields)):\n",
    "                friction = 1 if eps < 1 else N(1 / 10, MIN_PRECISION)\n",
    "                start_idx = j * (NumPoints + 1)\n",
    "                end_idx = (j + 1) * (NumPoints + 1)\n",
    "                current_fields[j] = current_fields[j] + friction * Matrix(df[start_idx:end_idx])\n",
    "            print(i, l, eps)\n",
    "\n",
    "        # Now use precision\n",
    "        eps = 1\n",
    "        while ERROR_MIN < eps < ERROR_MAX:\n",
    "            df = ODEsolver.step(\n",
    "                current_fields,\n",
    "                {'mu': mu_vec[i], 'mu_s': mu_s_vec[l]},\n",
    "                print_time=False,\n",
    "                as_numpy=False,\n",
    "            )\n",
    "            eps = max(abs(df))\n",
    "            for j in range(len(current_fields)):\n",
    "                friction = 1 if eps < 1 else N(1 / 10, MIN_PRECISION)\n",
    "                start_idx = j * (NumPoints + 1)\n",
    "                end_idx = (j + 1) * (NumPoints + 1)\n",
    "                current_fields[j] = current_fields[j] + friction * Matrix(df[start_idx:end_idx])\n",
    "            print(i, l, eps)\n",
    "\n",
    "        mu_sol_tab += [current_fields.copy()]\n",
    "    sol_tab += [mu_sol_tab]"
   ]
  },
  {
   "cell_type": "code",
   "execution_count": 13,
   "id": "11989786",
   "metadata": {},
   "outputs": [
    {
     "data": {
      "image/png": "[encoded data removed]",
      "text/plain": [
       "<Figure size 640x480 with 1 Axes>"
      ]
     },
     "metadata": {},
     "output_type": "display_data"
    }
   ],
   "source": [
    "import matplotlib.pyplot as plt\n",
    "plt.rcParams['text.usetex'] = True\n",
    "\n",
    "plt.plot(r_vec, sol_tab[0][0][0], '-o', label=r'$\\psi$')\n",
    "plt.plot(r_vec, sol_tab[0][0][1], '-o', label=r'$\\phi$')\n",
    "plt.plot(r_vec, sol_tab[0][0][2], '-o', label=r'$\\zeta$')\n",
    "plt.xlabel('r')\n",
    "plt.legend()\n",
    "plt.title(\"Background Functions in Probe Holographic Superconductor\")\n",
    "plt.show()"
   ]
  },
  {
   "cell_type": "code",
   "execution_count": 14,
   "id": "a8548194",
   "metadata": {},
   "outputs": [],
   "source": [
    "Otab = [[sol_tab[i][j][0][0] for j in range(Num_mu_s+1)] for i in range(Num_mu+1)]"
   ]
  },
  {
   "cell_type": "code",
   "execution_count": 15,
   "id": "6dc345f0",
   "metadata": {},
   "outputs": [
    {
     "data": {
      "image/png": "[encoded data removed]",
      "text/plain": [
       "<Figure size 640x480 with 1 Axes>"
      ]
     },
     "metadata": {},
     "output_type": "display_data"
    }
   ],
   "source": [
    "plt.plot([1/mu_vec[k] for k in range(Num_mu+1)], [Otab[k][0] for k in range(Num_mu+1)], '-o')\n",
    "plt.plot([1/mu_vec[k] for k in range(Num_mu+1)], [Otab[k][1] for k in range(Num_mu+1)], '-o')\n",
    "plt.xlabel(r'$1/\\mu$')\n",
    "plt.ylabel(r'$\\langle O \\rangle$')\n",
    "plt.title(\"Condensate Density in Probe Holographic Superconductor\")\n",
    "plt.show()"
   ]
  },
  {
   "cell_type": "markdown",
   "id": "7e5b05c6",
   "metadata": {},
   "source": [
    "### Find Quasinormal Modes"
   ]
  },
  {
   "cell_type": "markdown",
   "id": "149f25eb",
   "metadata": {},
   "source": [
    "Instantiate Linear Solver"
   ]
  },
  {
   "cell_type": "code",
   "execution_count": 16,
   "id": "52af2b4b",
   "metadata": {},
   "outputs": [],
   "source": [
    "# Instantiate a solver\n",
    "lin_fields = [sigmar, sigmai, at, ax]\n",
    "dlin_fields = [Function('dsigma_r')(r), Function('dsigma_i')(r), Function('dat')(r), Function('dax')(r)]\n",
    "lin_parameters=[kwave]\n",
    "\n",
    "lin_sol_tab = []\n",
    "lin_solver = Eigenvalue(\n",
    "    linear_eoms, \n",
    "    linear_bcs, \n",
    "    lin_fields, \n",
    "    dlin_fields, \n",
    "    fields, \n",
    "    lin_parameters, \n",
    "    omega, \n",
    "    spatial_grid, \n",
    "    r, \n",
    "    [0,1],\n",
    "    precision = MIN_PRECISION)"
   ]
  },
  {
   "cell_type": "code",
   "execution_count": 17,
   "id": "ee2d8389",
   "metadata": {},
   "outputs": [],
   "source": [
    "Nk = 10\n",
    "k_min, k_max = N(10**(-3),MIN_PRECISION), N(10**(-1),MIN_PRECISION)\n",
    "k_grid = Grid(Nk, k_min, k_max, MIN_PRECISION)\n",
    "k_tab = k_grid.get_grid()\n",
    "eigs_tab = [[[[] for k in range(Nk+1)] for j in range(Num_mu_s)] for i in range(Num_mu)]"
   ]
  },
  {
   "cell_type": "markdown",
   "id": "c5195a31",
   "metadata": {},
   "source": [
    "Find eigenvalues of the generalized eigenvalue problem. If as_numpy = False, this will refine the numpy eigenvalues using Newton refinement. Note that the refinement is quite slow. You can select eigenvalues to refine based on their norm using max_norm. "
   ]
  },
  {
   "cell_type": "code",
   "execution_count": 18,
   "id": "34a24b0f",
   "metadata": {},
   "outputs": [
    {
     "name": "stdout",
     "output_type": "stream",
     "text": [
      "step 0: 24.90515923500061 seconds\n",
      "step 1: 25.134002923965454 seconds\n",
      "step 2: 24.81985116004944 seconds\n",
      "step 3: 24.860909938812256 seconds\n",
      "step 4: 24.83626389503479 seconds\n",
      "step 5: 25.0452983379364 seconds\n",
      "step 6: 24.924224853515625 seconds\n",
      "step 7: 144.35077619552612 seconds\n",
      "step 8: 24.87245488166809 seconds\n",
      "step 9: 25.001044988632202 seconds\n",
      "step 10: 25.586779832839966 seconds\n"
     ]
    }
   ],
   "source": [
    "# for l in range(Num_mu):\n",
    "#     for j in range(Num_mu_s):\n",
    "for l in range(1):\n",
    "    for j in range(1):\n",
    "        for i in range(Nk+1):\n",
    "            start = time.time()\n",
    "            eigs_tab[l][j][i]=lin_solver.find_eigenvalue(\n",
    "                sol_tab[l][j],\n",
    "                {kwave: k_tab[i]}, \n",
    "                print_time = False, \n",
    "                as_numpy = False,\n",
    "                precision = MIN_PRECISION,\n",
    "                max_norm = 2).copy()\n",
    "            end = time.time()\n",
    "            print(f\"step {i}: {end-start} seconds\")"
   ]
  },
  {
   "cell_type": "markdown",
   "id": "57b2587d",
   "metadata": {},
   "source": [
    "Look for possible hydrodynamic modes"
   ]
  },
  {
   "cell_type": "code",
   "execution_count": 21,
   "id": "4aaa91d1",
   "metadata": {},
   "outputs": [],
   "source": [
    "possible_modes = [[[[] for _ in range(Nk+1)] for j in range(Num_mu_s)] for i in range(Num_mu)]\n",
    "\n",
    "for l in range(Num_mu):\n",
    "    for m in range(Num_mu_s):\n",
    "        for i in range(Nk+1):\n",
    "            for j in range(len(eigs_tab[l][m][i])):\n",
    "                if np.isnan(np.complex128(eigs_tab[l][m][i][j])):\n",
    "                    pass\n",
    "                elif 10**(-1) < np.abs(np.complex128(eigs_tab[l][m][i][j])) < 1:\n",
    "                    possible_modes[l][m][i]+=[np.complex128(eigs_tab[l][m][i][j])]"
   ]
  },
  {
   "cell_type": "code",
   "execution_count": 22,
   "id": "05b53806",
   "metadata": {},
   "outputs": [
    {
     "data": {
      "text/plain": [
       "[[(0.6290506162164075+0.04754037838490752j),\n",
       "  (-0.6273583193407632+0.050924173915642766j),\n",
       "  (0.0018972811209746214+0.722160723782582j),\n",
       "  (-0.003603283001275406-0.1879971762040705j)],\n",
       " [(-0.582393543416705+0.00980758257982134j),\n",
       "  (0.01006032982438173+0.27458891407254815j),\n",
       "  (0.5841505941709496+0.0029642445229442877j),\n",
       "  (-0.01180943776685856-0.1027874586619834j)],\n",
       " [(0.5606753354588966-0.0007579579982961385j),\n",
       "  (-0.5606768057574278-0.0007660548702318925j)],\n",
       " [(0.5607212024563033-0.0015487673778037806j),\n",
       "  (-0.5607216075993899-0.0015487362385294308j)],\n",
       " [(-0.5607274580718532-0.002517235082435451j),\n",
       "  (0.5607317873410631-0.0025739811882999823j)],\n",
       " [(0.5607240871379542-0.003648831164134445j),\n",
       "  (-0.5607247182758566-0.0036510237801683676j)],\n",
       " [(0.5607185789369163-0.004753610635143336j),\n",
       "  (-0.5607186519105699-0.0047504949687461944j)],\n",
       " [(0.560714867642217-0.005744269475284435j),\n",
       "  (-0.5607150773967099-0.005742749456355433j)],\n",
       " [(-0.5607131430379011-0.006527266034725042j),\n",
       "  (0.5607129170459395-0.006528834821420848j)],\n",
       " [(-0.5607135779367693-0.007030356681695631j),\n",
       "  (0.5607131579171558-0.007030368721937935j)],\n",
       " [(-0.5607130148589836-0.007203317326413677j),\n",
       "  (0.5607125954448232-0.007203327864546594j)]]"
      ]
     },
     "execution_count": 22,
     "metadata": {},
     "output_type": "execute_result"
    }
   ],
   "source": [
    "possible_modes[0][0]"
   ]
  },
  {
   "cell_type": "markdown",
   "id": "f29d858a",
   "metadata": {},
   "source": [
    "Plot the result"
   ]
  },
  {
   "cell_type": "code",
   "execution_count": 32,
   "id": "365b01d2",
   "metadata": {},
   "outputs": [
    {
     "data": {
      "image/png": "[encoded data removed]",
      "text/plain": [
       "<Figure size 640x480 with 1 Axes>"
      ]
     },
     "metadata": {},
     "output_type": "display_data"
    }
   ],
   "source": [
    "plt.plot(k_tab,[np.abs(possible_modes[0][0][k][0].real) for k in range(Nk+1)], '-o')\n",
    "plt.xlabel(r'$k$')\n",
    "plt.ylabel(r'$\\Re(\\omega)/k$')\n",
    "plt.title(\"Velocity of second sound\")\n",
    "plt.show()"
   ]
  },
  {
   "cell_type": "code",
   "execution_count": 24,
   "id": "47a96596",
   "metadata": {},
   "outputs": [
    {
     "data": {
      "image/png": "[encoded data removed]",
      "text/plain": [
       "<Figure size 640x480 with 1 Axes>"
      ]
     },
     "metadata": {},
     "output_type": "display_data"
    }
   ],
   "source": [
    "plt.plot(k_tab[3:-1],[np.abs(possible_modes[0][0][k][0].imag)/k_tab[k] for k in range(3,Nk)], '-o')\n",
    "plt.xlabel(r'$k$')\n",
    "plt.ylabel(r'$\\Re(\\omega)/k$')\n",
    "plt.title(\"Atenuation of second sound\")\n",
    "plt.show()"
   ]
  },
  {
   "cell_type": "markdown",
   "id": "1a8958d2",
   "metadata": {},
   "source": [
    "### Hydrodynamics"
   ]
  },
  {
   "cell_type": "markdown",
   "id": "25153933",
   "metadata": {},
   "source": [
    "An example of calculating second sound velocity"
   ]
  },
  {
   "cell_type": "code",
   "execution_count": 25,
   "id": "0fd774e7",
   "metadata": {},
   "outputs": [],
   "source": [
    "rho_tab = [[sol_tab[i][j][1][0]-(spatial_grid.D1()[0,:]*sol_tab[i][j][1])[0] for j in range(Num_mu_s+1)] for i in range(Num_mu+1)]\n",
    "Jx_tab = [[-(spatial_grid.D1()[0,:]*sol_tab[i][j][2])[0] for j in range(Num_mu_s+1)] for i in range(Num_mu+1)]\n",
    "rho_s_tab = [[mu_vec[k]/mu_s_vec[j]*Jx_tab[k][j] for j in range(Num_mu_s+1)] for k in range(Num_mu+1)]\n",
    "drho_dzeta = [[(mu_s_grid.D1()[k,:]*Matrix(rho_tab[j]))[0] for k in range(Num_mu_s+1)] for j in range(Num_mu+1)]\n",
    "drho_dmu = [[(mu_grid.D1()[j,:]*Matrix(rho_tab)[:,k])[0] for k in range(Num_mu_s+1)] for j in range(Num_mu+1)]\n",
    "drho_s_dzeta = [[(mu_s_grid.D1()[k,:]*Matrix(rho_s_tab[j]))[0] for k in range(Num_mu_s+1)] for j in range(Num_mu+1)]"
   ]
  },
  {
   "cell_type": "code",
   "execution_count": 26,
   "id": "247d7a5d",
   "metadata": {},
   "outputs": [],
   "source": [
    "chi_nsh, rho_s, chi_nh, chi_nn = symbols('chi_nsh rho_s chi_nh chi_nn')\n",
    "chi_xi_xi = mu/(mus*chi_nsh+rho_s)\n",
    "velocity_minus = chi_nh/chi_nn - sqrt(chi_nh**2/chi_nn**2+1/(chi_nn*chi_xi_xi))"
   ]
  },
  {
   "cell_type": "code",
   "execution_count": 27,
   "id": "972df394",
   "metadata": {},
   "outputs": [
    {
     "data": {
      "text/latex": [
       "$\\displaystyle \\frac{\\chi_{nh}}{\\chi_{nn}} - \\sqrt{\\frac{\\chi_{nh}^{2}}{\\chi_{nn}^{2}} + \\frac{\\chi_{nsh} \\mu_{s} + \\rho_{s}}{\\chi_{nn} \\mu}}$"
      ],
      "text/plain": [
       "chi_nh/chi_nn - sqrt(chi_nh**2/chi_nn**2 + (chi_nsh*mu_s + rho_s)/(chi_nn*mu))"
      ]
     },
     "execution_count": 27,
     "metadata": {},
     "output_type": "execute_result"
    }
   ],
   "source": [
    "velocity_minus"
   ]
  },
  {
   "cell_type": "code",
   "execution_count": 28,
   "id": "8d52fc86",
   "metadata": {},
   "outputs": [],
   "source": [
    "v_min_tab = [\n",
    "    [velocity_minus\n",
    "     .subs(chi_nsh,drho_s_dzeta[i][j])\n",
    "     .subs(chi_nn,drho_dmu[i][j])\n",
    "     .subs(chi_nh,drho_dzeta[i][j])\n",
    "     .subs(mus,mu_s_vec[j])\n",
    "     .subs(mu,mu_vec[i])\n",
    "     .subs(rho_s,rho_s_tab[i][j]) \n",
    "     for j in range(Num_mu_s+1)] \n",
    "     for i in range(Num_mu+1)]"
   ]
  },
  {
   "cell_type": "markdown",
   "id": "f8cf1e9f",
   "metadata": {},
   "source": [
    "Check the matching"
   ]
  },
  {
   "cell_type": "code",
   "execution_count": 29,
   "id": "b8bd7b53",
   "metadata": {},
   "outputs": [
    {
     "data": {
      "text/latex": [
       "$\\displaystyle -0.560721885180846653399142$"
      ],
      "text/plain": [
       "-0.560721885180846653399142"
      ]
     },
     "execution_count": 29,
     "metadata": {},
     "output_type": "execute_result"
    }
   ],
   "source": [
    "v_min_tab[0][0]"
   ]
  },
  {
   "cell_type": "code",
   "execution_count": 30,
   "id": "d6e2ace5",
   "metadata": {},
   "outputs": [
    {
     "data": {
      "text/plain": [
       "[(-0.5607130148589836-0.007203317326413677j),\n",
       " (0.5607125954448232-0.007203327864546594j)]"
      ]
     },
     "execution_count": 30,
     "metadata": {},
     "output_type": "execute_result"
    }
   ],
   "source": [
    "possible_modes[0][0][-1]"
   ]
  },
  {
   "cell_type": "markdown",
   "id": "2ac6a93e",
   "metadata": {},
   "source": [
    "So they match to high accuracy!"
   ]
  }
 ],
 "metadata": {
  "kernelspec": {
   "display_name": "base",
   "language": "python",
   "name": "python3"
  },
  "language_info": {
   "codemirror_mode": {
    "name": "ipython",
    "version": 3
   },
   "file_extension": ".py",
   "mimetype": "text/x-python",
   "name": "python",
   "nbconvert_exporter": "python",
   "pygments_lexer": "ipython3",
   "version": "3.12.7"
  }
 },
 "nbformat": 4,
 "nbformat_minor": 5
}
