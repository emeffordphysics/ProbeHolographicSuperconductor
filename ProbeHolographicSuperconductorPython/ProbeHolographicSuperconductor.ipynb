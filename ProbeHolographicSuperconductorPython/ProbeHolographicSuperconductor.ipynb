{
 "cells": [
  {
   "cell_type": "markdown",
   "id": "4e6f2d49",
   "metadata": {},
   "source": [
    "# The hydrodynamics of a probe holographic superconductor"
   ]
  },
  {
   "cell_type": "markdown",
   "id": "c0667163",
   "metadata": {},
   "source": [
    "## Equations"
   ]
  },
  {
   "cell_type": "markdown",
   "id": "68b0d188",
   "metadata": {},
   "source": [
    "Import necessary packages"
   ]
  },
  {
   "cell_type": "code",
   "execution_count": 1,
   "id": "ac0b1087",
   "metadata": {},
   "outputs": [],
   "source": [
    "from sympy import *\n",
    "from Einstein import Spacetime\n",
    "from EquationsOfMotion import EOMs\n",
    "from PseudospectralGrid import Grid\n",
    "from Linearize import Linearize\n",
    "from NewtonRaphson import ODE\n",
    "from ODEEigenvalue import Eigenvalue\n",
    "import numpy as np\n",
    "import mpmath as mp\n",
    "import time"
   ]
  },
  {
   "cell_type": "markdown",
   "id": "ef4048b3",
   "metadata": {},
   "source": [
    "Define variables and spacetime dimension"
   ]
  },
  {
   "cell_type": "code",
   "execution_count": 2,
   "id": "f58a1a34",
   "metadata": {},
   "outputs": [],
   "source": [
    "from sympy import symbols\n",
    "\n",
    "r = symbols('r', positive=True)\n",
    "t, x, y, dt, dr, dx, dy, M, q, mu, mus, omega, kwave = symbols(\n",
    "    't x y dt dr dx dy M q mu mu_s omega k'\n",
    ")\n",
    "\n",
    "co = [t, r, x, y]\n",
    "dco = [dt, dr, dx, dy]\n",
    "dim = len(co)"
   ]
  },
  {
   "cell_type": "markdown",
   "id": "a0cd6146",
   "metadata": {},
   "source": [
    "Define line element and run Einstein module for GR quantities"
   ]
  },
  {
   "cell_type": "code",
   "execution_count": 3,
   "id": "c3efea7f",
   "metadata": {},
   "outputs": [],
   "source": [
    "f = Function('f')(r)\n",
    "ds2 = (r**(-2))*(-f*(dt**2) + (dr**2)/f + dx**2 + dy**2)\n",
    "spacetime = Spacetime(ds2, co, dco)"
   ]
  },
  {
   "cell_type": "markdown",
   "id": "68d553b5",
   "metadata": {},
   "source": [
    "Define fields"
   ]
  },
  {
   "cell_type": "code",
   "execution_count": 4,
   "id": "320e0be8",
   "metadata": {},
   "outputs": [],
   "source": [
    "Psi = Function('Psi')(*co)  # The scalar field\n",
    "Psibar = Function('Psi^*')(*co)  # Complex conjugate\n",
    "\n",
    "Amax = [\n",
    "    Function('At')(*co),\n",
    "    Function('Ar')(*co),\n",
    "    Function('Ax')(*co),\n",
    "    Function('Ay')(*co)\n",
    "]  # The Maxwell field\n",
    "\n",
    "Fab = [\n",
    "    [\n",
    "        diff(Amax[j], co[i]) - diff(Amax[i], co[j]) for j in range(dim)\n",
    "    ] for i in range(dim)\n",
    "]  # Field strength F_ab := d_a A_b - d_b A_a\n",
    "\n",
    "# The complex scalar field, chosen to be just a function of r\n",
    "psi = Function('psi')(r)\n",
    "\n",
    "# Perturbations have plane wave dependence\n",
    "sigmar = Function('sigma_r')(r)\n",
    "sigmai = Function('sigma_i')(r)\n",
    "deltapsi = (sigmar + I * sigmai) * exp(-I * (omega * t - kwave * x))\n",
    "deltapsibar = (sigmar - I * sigmai) * exp(-I * (omega * t - kwave * x))\n",
    "\n",
    "# Background Maxwell has A_t and A_x\n",
    "phi = Function('phi')(r)\n",
    "zeta = Function('zeta')(r)\n",
    "Aback = [phi, 0, zeta, 0]\n",
    "\n",
    "at = Function('at')(r)\n",
    "ax = Function('ax')(r)\n",
    "deltaA = [\n",
    "    at * exp(-I * (omega * t - kwave * x)),\n",
    "    0,\n",
    "    ax * exp(-I * (omega * t - kwave * x)),\n",
    "    0\n",
    "]\n",
    "\n",
    "background_fields = [psi, phi, zeta]\n",
    "linear_fields = [sigmar, sigmai, at, ax]\n"
   ]
  },
  {
   "cell_type": "markdown",
   "id": "a0036db6",
   "metadata": {},
   "source": [
    "Define Lagrangian, $\\mathcal{L} = \\sqrt{-g}\\left(\\frac{1}{4}F^2 + (\\partial_\\mu\\Psi - iqA_\\mu\\Psi)(\\partial^\\mu\\Psi^* + iqA^\\mu\\Psi^*) - V(\\Psi,\\Psi^*)\\right)$ and fix $q=1$"
   ]
  },
  {
   "cell_type": "code",
   "execution_count": 5,
   "id": "0ee04c1d",
   "metadata": {},
   "outputs": [],
   "source": [
    "# Fix q = 1\n",
    "q = 1\n",
    "\n",
    "# Define Lagrangian\n",
    "root_det = (-1 * spacetime.det_met()) ** Rational(1, 2)\n",
    "ginv = spacetime.inverse_metric()\n",
    "\n",
    "Lag_max_kin = Rational(1, 4) * sum([\n",
    "    sum([\n",
    "        sum([\n",
    "            sum([\n",
    "                Fab[a][b] * Fab[c][e] * ginv[a, c] * ginv[b, e]\n",
    "                for a in range(dim)\n",
    "            ])\n",
    "            for b in range(dim)\n",
    "        ])\n",
    "        for c in range(dim)\n",
    "    ])\n",
    "    for e in range(dim)\n",
    "])\n",
    "\n",
    "V_scalar = -(dim - 1) * (dim - 2) - 2 * Psi * Psibar\n",
    "\n",
    "Lag_scalar = V_scalar + Rational(1, 2) * sum([\n",
    "    sum([\n",
    "        ginv[a, b] * (\n",
    "            (diff(Psi, co[a]) - I * q * Amax[a] * Psi) *\n",
    "            (diff(Psibar, co[b]) + I * q * Amax[b] * Psibar) +\n",
    "            (diff(Psi, co[b]) - I * q * Amax[b] * Psi) *\n",
    "            (diff(Psibar, co[a]) + I * q * Amax[a] * Psibar)\n",
    "        )\n",
    "        for a in range(dim)\n",
    "    ])\n",
    "    for b in range(dim)\n",
    "])\n",
    "\n",
    "Lag = simplify(-1 * root_det * (Lag_max_kin + Lag_scalar))\n",
    "\n",
    "full_fields = [Psi, Psibar, Amax[0], Amax[1], Amax[2], Amax[3]]\n",
    "\n",
    "eoms = EOMs(co, Lag, full_fields).get_eoms()"
   ]
  },
  {
   "cell_type": "markdown",
   "id": "0506e1bd",
   "metadata": {},
   "source": [
    "Find equations of motion for the background"
   ]
  },
  {
   "cell_type": "code",
   "execution_count": 6,
   "id": "dc9b8e49",
   "metadata": {},
   "outputs": [],
   "source": [
    "back_subs = [\n",
    "    (Psi, psi),\n",
    "    (Psibar, psi),\n",
    "    (Amax[0], Aback[0]),\n",
    "    (Amax[1], 0),\n",
    "    (Amax[2], Aback[2]),\n",
    "    (Amax[3], 0),\n",
    "]\n",
    "\n",
    "# Redefine fields to extract boundary behavior\n",
    "field_red = [\n",
    "    (psi, r**2 * psi),\n",
    "    (phi, phi * (1 - r)),\n",
    "    (f, (1 - r) * (1 + r + r**2)),\n",
    "]\n",
    "\n",
    "eoms_red = [\n",
    "    simplify(numer(eom.subs(back_subs).subs(field_red)))\n",
    "    for eom in (eoms[0], eoms[2], eoms[4])\n",
    "]\n",
    "\n",
    "# Extract boundary behavior for better numerical stability\n",
    "eoms_fin = [\n",
    "    simplify(eoms_red[0] * (r**(-3)) / (1 - r)),\n",
    "    simplify(eoms_red[1] * r**(-4) / (1 - r)),\n",
    "    simplify(eoms_red[2] * r**(-4) / (1 - r)),\n",
    "]\n",
    "\n",
    "# Define boundary conditions\n",
    "bcs_lower = [\n",
    "    diff(psi, r).subs(r, 0),\n",
    "    phi.subs(r, 0) - mu,\n",
    "    zeta.subs(r, 0) - mus,\n",
    "]\n",
    "\n",
    "bcs_upper = [eoms_fin[i].subs(r, 1) for i in range(3)]\n",
    "\n",
    "BCs = [\n",
    "    [bcs_lower[0], bcs_upper[0]],\n",
    "    [bcs_lower[1], bcs_upper[1]],\n",
    "    [bcs_lower[2], bcs_upper[2]],\n",
    "]\n",
    "\n",
    "# Rewrite ODEs with coefficients of second derivatives equal to 1 for speed\n",
    "odes = [\n",
    "    psi.diff(r, r) - solve(Eq(eoms_fin[0], 0), psi.diff(r, r))[0],\n",
    "    phi.diff(r, r) - solve(Eq(eoms_fin[1], 0), phi.diff(r, r))[0],\n",
    "    zeta.diff(r, r) - solve(Eq(eoms_fin[2], 0), zeta.diff(r, r))[0],\n",
    "]"
   ]
  },
  {
   "cell_type": "markdown",
   "id": "3ebb5a6a",
   "metadata": {},
   "source": [
    "Find equations of motion for the fluctuations"
   ]
  },
  {
   "cell_type": "code",
   "execution_count": 7,
   "id": "c32d6958",
   "metadata": {},
   "outputs": [],
   "source": [
    "eps = symbols('epsilon')\n",
    "\n",
    "linear_subs = [\n",
    "    (Psi, psi + eps * deltapsi),\n",
    "    (Psibar, psi + eps * deltapsibar),\n",
    "    (Amax[0], Aback[0] + eps * deltaA[0]),\n",
    "    (Amax[1], 0),\n",
    "    (Amax[2], Aback[2] + eps * deltaA[2]),\n",
    "    (Amax[3], 0),\n",
    "]\n",
    "\n",
    "linear_eoms = [\n",
    "    simplify(numer(together(eq.subs(linear_subs).diff(eps).subs(eps, 0))))\n",
    "    for eq in (eoms[0], eoms[1], eoms[2], eoms[3], eoms[4])\n",
    "]\n",
    "\n",
    "# Impose ingoing boundary conditions\n",
    "ingoing_bcs = [\n",
    "    (sigmar, sigmar * (1 - r) ** (-I * omega / 3)),\n",
    "    (sigmai, sigmai * (1 - r) ** (-I * omega / 3)),\n",
    "    (at, at * (1 - r) ** (-I * omega / 3)),\n",
    "    (ax, ax * (1 - r) ** (-I * omega / 3)),\n",
    "]\n",
    "\n",
    "# Redefine fields\n",
    "lin_field_red = [\n",
    "    (sigmar, r * sigmar),\n",
    "    (sigmai, r * sigmai),\n",
    "    (at, (1 - r) * at),\n",
    "]\n",
    "\n",
    "linear_ing = [\n",
    "    simplify(\n",
    "        expand(\n",
    "            simplify(\n",
    "                expand(\n",
    "                    (1 - r) ** (-2)\n",
    "                    * numer(together(eom.subs(field_red).subs(ingoing_bcs).subs(lin_field_red)))\n",
    "                )\n",
    "            )\n",
    "        )\n",
    "    )\n",
    "    for eom in linear_eoms\n",
    "]\n",
    "\n",
    "# Since we want hydrodynamic modes with lim_{k->0} omega(k) = 0, extract a k\n",
    "linear_ing = [\n",
    "    simplify(\n",
    "        expand(simplify(numer(eq.subs(omega, kwave * omega))))\n",
    "    )\n",
    "    for eq in linear_ing\n",
    "]\n",
    "\n",
    "gauge_constraint = simplify(expand(linear_ing[3] / (r ** 2)))\n",
    "\n",
    "# The actual linearized equations to be solved\n",
    "linear_eoms = [\n",
    "    simplify((1 - r) ** (-8) * linear_ing[0] / (r ** -3)),\n",
    "    simplify((1 - r) ** (-8) * linear_ing[1] / (r ** -3)),\n",
    "    simplify(linear_ing[2] / (r ** -2)),\n",
    "    simplify(linear_ing[4] / (r ** -2)),\n",
    "]\n",
    "\n",
    "# Boundary conditions for linearized equations\n",
    "bchor_0 = simplify(expand(simplify(expand(linear_eoms[0])))).subs(r, 1)\n",
    "bchor_1 = simplify(expand(simplify(expand(linear_eoms[1])))).subs(r, 1)\n",
    "bchor_2 = simplify(expand(simplify(expand(linear_eoms[2] / omega)))).subs(r, 1)\n",
    "bchor_3 = simplify(expand(simplify(expand(linear_eoms[3])))).subs(r, 1)\n",
    "\n",
    "uv_gauge_constraint = simplify(gauge_constraint.subs(r, 0))\n",
    "ir_gauge_constraint = simplify(gauge_constraint.subs(r, 1) / (kwave * omega))\n",
    "\n",
    "lin_bc_lower = [\n",
    "    sigmar.subs(r, 0),\n",
    "    sigmai.subs(r, 0),\n",
    "    omega * ax.subs(r, 0) + at.subs(r, 0),\n",
    "    uv_gauge_constraint,\n",
    "]\n",
    "\n",
    "lin_bc_upper = [bchor_0, bchor_1, bchor_2, bchor_3]\n",
    "\n",
    "linear_bcs = [[lin_bc_lower[i], lin_bc_upper[i]] for i in range(len(lin_bc_lower))]\n"
   ]
  },
  {
   "cell_type": "markdown",
   "id": "c35a85e9",
   "metadata": {},
   "source": [
    "## Numerics"
   ]
  },
  {
   "cell_type": "markdown",
   "id": "f7042911",
   "metadata": {},
   "source": [
    "Set numerical precision and threshold for convergence"
   ]
  },
  {
   "cell_type": "code",
   "execution_count": 8,
   "id": "02dc873d",
   "metadata": {},
   "outputs": [],
   "source": [
    "MIN_PRECISION = 24\n",
    "mp.dps = MIN_PRECISION\n",
    "ERROR_MIN = N(10**(-18), MIN_PRECISION)\n",
    "ERROR_MAX = N(10**6, MIN_PRECISION)"
   ]
  },
  {
   "cell_type": "markdown",
   "id": "f33980b3",
   "metadata": {},
   "source": [
    "Set up pseudospectral grid"
   ]
  },
  {
   "cell_type": "code",
   "execution_count": 9,
   "id": "a487767c",
   "metadata": {},
   "outputs": [],
   "source": [
    "# Spatial grid\n",
    "NumPoints = 2\n",
    "r_min, r_max = 0, 1\n",
    "spatial_grid = Grid(NumPoints, r_min, r_max, MIN_PRECISION)\n",
    "r_vec = spatial_grid.get_grid()\n",
    "\n",
    "# Grid over chemical potential\n",
    "Num_mu = 6\n",
    "mu_min, mu_max = 5, 6\n",
    "mu_grid = Grid(Num_mu, mu_min, mu_max, MIN_PRECISION)\n",
    "mu_vec = mu_grid.get_grid()\n",
    "\n",
    "# Grid over superfluid velocity\n",
    "Num_mu_s = 6\n",
    "mu_s_min, mu_s_max = N(10**(-6),MIN_PRECISION), N(10**(-4),MIN_PRECISION)\n",
    "mu_s_grid = Grid(Num_mu_s, mu_s_min, mu_s_max, MIN_PRECISION)\n",
    "mu_s_vec = mu_s_grid.get_grid()"
   ]
  },
  {
   "cell_type": "markdown",
   "id": "9fd7272c",
   "metadata": {},
   "source": [
    "Instantiate a Newton-Raphson solver"
   ]
  },
  {
   "cell_type": "code",
   "execution_count": 10,
   "id": "87f143b1",
   "metadata": {},
   "outputs": [],
   "source": [
    "fields = [psi, phi, zeta]\n",
    "dfields = [Function('dpsi')(r), Function('dphi')(r), Function('dzeta')(r)]\n",
    "parameters = ['mu','mu_s']\n",
    "ODEsolver = ODE(eoms_fin, BCs, fields, dfields, parameters, spatial_grid, r, [0,1])"
   ]
  },
  {
   "cell_type": "markdown",
   "id": "e0f3ed89",
   "metadata": {},
   "source": [
    "Define seeds for the ODE solver"
   ]
  },
  {
   "cell_type": "code",
   "execution_count": 11,
   "id": "d44f411a",
   "metadata": {},
   "outputs": [],
   "source": [
    "psi_vec = Matrix([N(15*(1-r_vec[i]**2),MIN_PRECISION) for i in range(NumPoints+1)])\n",
    "phi_vec = Matrix([N(mu_min,MIN_PRECISION) for i in range(NumPoints+1)])\n",
    "zeta_vec = Matrix([N(mu_s_min,MIN_PRECISION) for i in range(NumPoints+1)])\n",
    "current_fields=[psi_vec, phi_vec, zeta_vec]"
   ]
  },
  {
   "cell_type": "markdown",
   "id": "edf5c9b3",
   "metadata": {},
   "source": [
    "Loop over mu and solve the ODE"
   ]
  },
  {
   "cell_type": "code",
   "execution_count": 12,
   "id": "2a12d736",
   "metadata": {},
   "outputs": [
    {
     "name": "stdout",
     "output_type": "stream",
     "text": [
      "0 0 7.88018744269007\n",
      "0 0 7.41055204870356\n",
      "0 0 6.97218073467592\n",
      "0 0 6.56245848707465\n",
      "0 0 6.17902051743977\n",
      "0 0 5.81972678003922\n",
      "0 0 5.48263914071807\n",
      "0 0 5.16600094715241\n",
      "0 0 4.86821877419355\n",
      "0 0 4.58784613908003\n",
      "0 0 4.32356900016151\n",
      "0 0 4.07419286952348\n",
      "0 0 3.83863138457889\n",
      "0 0 3.61589619631492\n",
      "0 0 3.40508804243709\n",
      "0 0 3.20538888211221\n",
      "0 0 3.01605497536877\n",
      "0 0 2.83641079451097\n",
      "0 0 2.66584365727670\n",
      "0 0 2.50379897220706\n",
      "0 0 2.34977598627897\n",
      "0 0 2.20332392401939\n",
      "0 0 2.06403840707807\n",
      "0 0 1.93155804485734\n",
      "0 0 1.80556109173807\n",
      "0 0 1.68576207618905\n",
      "0 0 1.57190832288181\n",
      "0 0 1.46377631161539\n",
      "0 0 1.36116784629070\n",
      "0 0 1.26390604212592\n",
      "0 0 1.17183117725102\n",
      "0 0 1.08479649205850\n",
      "0 0 1.00266405173177\n",
      "0 0 0.925300809641943\n",
      "0 0 0.124938301132134\n",
      "0 0 0.00374256286913792\n",
      "0 0 4.50331458296409e-6\n",
      "0 0 2.40914450527693e-12\n",
      "0 0 3.25000879068970e-24\n",
      "0 0 1.17273588161610415994965e-24\n",
      "0 1 6.63174251267029e-6\n",
      "0 1 1.02924853157034e-11\n",
      "0 1 3.32495639054282e-23\n",
      "0 1 9.11178858648518959849139e-25\n",
      "0 2 1.81182574873297e-5\n",
      "0 2 7.68241562793943e-11\n",
      "0 2 1.78795135544088e-21\n",
      "0 2 1.47428481693724673191263e-24\n",
      "0 3 2.47500000000000e-5\n",
      "0 3 1.43355827355420e-10\n",
      "0 3 6.22604022928681e-21\n",
      "0 3 1.41429718472300875852460e-24\n",
      "0 4 2.47500000000000e-5\n",
      "0 4 1.43355827627324e-10\n",
      "0 4 6.22790420195307e-21\n",
      "0 4 2.60546992455338794140456e-25\n",
      "0 5 1.81182574873297e-5\n",
      "0 5 7.68241566869739e-11\n",
      "0 5 1.78817324956373e-21\n",
      "0 5 1.03902035555249190169825e-24\n",
      "0 6 6.63174251267029e-6\n",
      "0 6 1.02924853933031e-11\n",
      "0 6 3.51483272275956e-23\n",
      "0 6 9.04090919417536061257006e-25\n",
      "1 0 0.0669872981077807\n",
      "1 0 0.000831914084497694\n",
      "1 0 1.39855559116877e-7\n",
      "1 0 3.95277093286986e-15\n",
      "1 0 1.06649446150089e-24\n",
      "1 0 2.01524480704305476768425e-24\n",
      "1 1 6.63174251267029e-6\n",
      "1 1 9.70043781020233e-12\n",
      "1 1 2.75241460333525e-23\n",
      "1 1 6.94549710176372498621706e-25\n",
      "1 2 1.81182574873297e-5\n",
      "1 2 7.24050535360718e-11\n",
      "1 2 1.54851551314112e-21\n",
      "1 2 1.97798783145271312218568e-24\n",
      "1 3 2.47500000000000e-5\n",
      "1 3 1.35109669360799e-10\n",
      "1 3 5.39213063710848e-21\n",
      "1 3 4.84115750158089145581430e-25\n",
      "1 4 2.47500000000000e-5\n",
      "1 4 1.35109669599987e-10\n",
      "1 4 5.39760166363162e-21\n",
      "1 4 2.63655969685553112362959e-25\n",
      "1 5 1.81182574873297e-5\n",
      "1 5 7.24050538946101e-11\n",
      "1 5 1.54930467286782e-21\n",
      "1 5 1.04717396034191906479030e-24\n",
      "1 6 6.63174251267029e-6\n",
      "1 6 9.70043787846804e-12\n",
      "1 6 2.70862975861969e-23\n",
      "1 6 9.54181339327960261393509e-25\n",
      "2 0 0.183012701892219\n",
      "2 0 0.00551671392549765\n",
      "2 0 5.76489140705514e-6\n",
      "2 0 6.29530271163652e-12\n",
      "2 0 6.08527419858199e-24\n",
      "2 0 1.10066058399048477956174e-24\n",
      "2 1 6.63174251267029e-6\n",
      "2 1 8.31895919501359e-12\n",
      "2 1 2.00924097034967e-23\n",
      "2 1 6.50791891477948606376929e-25\n",
      "2 2 1.81182574873297e-5\n",
      "2 2 6.20935567705534e-11\n",
      "2 2 1.07783182689884e-21\n",
      "2 2 1.43576560595653451378202e-24\n",
      "2 3 2.47500000000000e-5\n",
      "2 3 1.15868154417250e-10\n",
      "2 3 3.75074776499502e-21\n",
      "2 3 1.68048982037518793326584e-24\n",
      "2 4 2.47500000000000e-5\n",
      "2 4 1.15868154589282e-10\n",
      "2 4 3.75410053846656e-21\n",
      "2 4 1.06133019622286805189083e-24\n",
      "2 5 1.81182574873297e-5\n",
      "2 5 6.20935570284312e-11\n",
      "2 5 1.07803927734090e-21\n",
      "2 5 7.18035703655446026649167e-25\n",
      "2 6 6.63174251267029e-6\n",
      "2 6 8.31895924411246e-12\n",
      "2 6 1.98812610826251e-23\n",
      "2 6 1.92695588350452556138196e-24\n",
      "3 0 0.250000000000000\n",
      "3 0 0.00837051778688046\n",
      "3 0 1.22922650266334e-5\n",
      "3 0 2.65091062999599e-11\n",
      "3 0 1.23012623495528e-22\n",
      "3 0 1.36039074589004719630138e-24\n",
      "3 1 6.63174251267029e-6\n",
      "3 1 6.85824413155554e-12\n",
      "3 1 1.43231010464755e-23\n",
      "3 1 1.51429593410593429302969e-24\n",
      "3 2 1.81182574873297e-5\n",
      "3 2 5.11906311038954e-11\n",
      "3 2 6.93751795613134e-22\n",
      "3 2 2.16502924135805672034237e-24\n",
      "3 3 2.47500000000000e-5\n",
      "3 3 9.55230181236043e-11\n",
      "3 3 2.41052300802848e-21\n",
      "3 3 1.35787818832997180433181e-24\n",
      "3 4 2.47500000000000e-5\n",
      "3 4 9.55230182380191e-11\n",
      "3 4 2.41268060596620e-21\n",
      "3 4 1.19457471597852252861916e-24\n",
      "3 5 1.81182574873297e-5\n",
      "3 5 5.11906312754086e-11\n",
      "3 5 6.94423187447182e-22\n",
      "3 5 1.24469528275152498958026e-24\n",
      "3 6 6.63174251267029e-6\n",
      "3 6 6.85824416421130e-12\n",
      "3 6 8.66804404030203e-24\n",
      "3 6 1.51472019592994511253788e-24\n",
      "4 0 0.250000000000000\n",
      "4 0 0.00672354838941373\n",
      "4 0 7.42092478185862e-6\n",
      "4 0 9.04025141407162e-12\n",
      "4 0 1.38643493540413e-23\n",
      "4 0 1.64635306643747998912868e-24\n",
      "4 1 6.63174251267029e-6\n",
      "4 1 5.74539777197862e-12\n",
      "4 1 9.53610562135017e-24\n",
      "4 1 8.79186292972076397598984e-25\n",
      "4 2 1.81182574873297e-5\n",
      "4 2 4.28842327925941e-11\n",
      "4 2 4.68407046759976e-22\n",
      "4 2 1.29863541502544714293883e-24\n",
      "4 3 2.47500000000000e-5\n",
      "4 3 8.00230678460263e-11\n",
      "4 3 1.62854423702494e-21\n",
      "4 3 5.81925523129404062336596e-25\n",
      "4 4 2.47500000000000e-5\n",
      "4 4 8.00230679252657e-11\n",
      "4 4 1.63092205094484e-21\n",
      "4 4 8.99848068991077947106605e-25\n",
      "4 5 1.81182574873297e-5\n",
      "4 5 4.28842329113738e-11\n",
      "4 5 4.67162563065468e-22\n",
      "4 5 1.17509955386567623510163e-24\n",
      "4 6 6.63174251267029e-6\n",
      "4 6 5.74539779459528e-12\n",
      "4 6 6.85779989915208e-24\n",
      "4 6 4.07299752887674809738126e-25\n",
      "5 0 0.183012701892219\n",
      "5 0 0.00302381473366863\n",
      "5 0 1.43692816345463e-6\n",
      "5 0 3.42588333065855e-13\n",
      "5 0 3.56848030942997e-25\n",
      "5 0 1.66512846467266429498295e-25\n",
      "5 1 6.63174251267029e-6\n",
      "5 1 5.09014006945877e-12\n",
      "5 1 4.65271585965319e-24\n",
      "5 1 1.38464795961411655178998e-24\n",
      "5 2 1.81182574873297e-5\n",
      "5 2 3.79933227162021e-11\n",
      "5 2 3.59961698248270e-22\n",
      "5 2 8.56777767880458332741488e-25\n",
      "5 3 2.47500000000000e-5\n",
      "5 3 7.08965053885748e-11\n",
      "5 3 1.25419126586143e-21\n",
      "5 3 6.03127177773030072222064e-25\n",
      "5 4 2.47500000000000e-5\n",
      "5 4 7.08965054504462e-11\n",
      "5 4 1.25447509250227e-21\n",
      "5 4 4.10689552403618173874162e-25\n",
      "5 5 1.81182574873297e-5\n",
      "5 5 3.79933228089444e-11\n",
      "5 5 3.58567889714466e-22\n",
      "5 5 3.03224189065381534731143e-24\n",
      "5 6 6.63174251267029e-6\n",
      "5 6 5.09014008711665e-12\n",
      "5 6 6.49973642872240e-24\n",
      "5 6 8.78527267930736367167673e-25\n",
      "6 0 0.0669872981077807\n",
      "6 0 0.000366040066766839\n",
      "6 0 2.07419043343424e-8\n",
      "6 0 7.66619341528706e-17\n",
      "6 0 6.85538765209081e-25\n",
      "6 0 1.50661464859122277697056e-24\n",
      "6 1 6.63174251267029e-6\n",
      "6 1 4.87721762597864e-12\n",
      "6 1 5.98334078007057e-24\n",
      "6 1 4.42708796040668590164970e-25\n",
      "6 2 1.81182574873297e-5\n",
      "6 2 3.64040479617077e-11\n",
      "6 2 3.29507462933375e-22\n",
      "6 2 6.34511162581995579970190e-25\n",
      "6 3 2.47500000000000e-5\n",
      "6 3 6.79308783209467e-11\n",
      "6 3 1.14617252448471e-21\n",
      "6 3 4.86018431417714338640658e-25\n",
      "6 4 2.47500000000000e-5\n",
      "6 4 6.79308783776886e-11\n",
      "6 4 1.14416876889943e-21\n",
      "6 4 1.89306027992527306745980e-24\n",
      "6 5 1.81182574873297e-5\n",
      "6 5 3.64040480467644e-11\n",
      "6 5 3.27842993229413e-22\n",
      "6 5 7.75528988449606149173556e-25\n",
      "6 6 6.63174251267029e-6\n",
      "6 6 4.87721764217112e-12\n",
      "6 6 6.55057493348086e-24\n",
      "6 6 4.78917820698227146354560e-25\n"
     ]
    }
   ],
   "source": [
    "# sol_tab = [[[] for _ in range(Num_mu_s+1)] for _ in range(Num_mu+1)]\n",
    "sol_tab = []\n",
    "for i in range(Num_mu+1):\n",
    "    mu_sol_tab = []\n",
    "    for l in range(Num_mu_s+1):\n",
    "        # Start with numpy arrays as this is much faster\n",
    "        eps = 1\n",
    "        while ERROR_MIN < eps < ERROR_MAX:\n",
    "            df = ODEsolver.step(\n",
    "                current_fields,\n",
    "                {'mu': mu_vec[i], 'mu_s': mu_s_vec[l]},\n",
    "                print_time=False,\n",
    "                as_numpy=True,\n",
    "            )\n",
    "            eps = max(abs(df))\n",
    "            for j in range(len(current_fields)):\n",
    "                friction = 1 if eps < 1 else N(1 / 10, MIN_PRECISION)\n",
    "                start_idx = j * (NumPoints + 1)\n",
    "                end_idx = (j + 1) * (NumPoints + 1)\n",
    "                current_fields[j] = current_fields[j] + friction * Matrix(df[start_idx:end_idx])\n",
    "            print(i, l, eps)\n",
    "\n",
    "        # Now use precision\n",
    "        eps = 1\n",
    "        while ERROR_MIN < eps < ERROR_MAX:\n",
    "            df = ODEsolver.step(\n",
    "                current_fields,\n",
    "                {'mu': mu_vec[i], 'mu_s': mu_s_vec[l]},\n",
    "                print_time=False,\n",
    "                as_numpy=False,\n",
    "            )\n",
    "            eps = max(abs(df))\n",
    "            for j in range(len(current_fields)):\n",
    "                friction = 1 if eps < 1 else N(1 / 10, MIN_PRECISION)\n",
    "                start_idx = j * (NumPoints + 1)\n",
    "                end_idx = (j + 1) * (NumPoints + 1)\n",
    "                current_fields[j] = current_fields[j] + friction * Matrix(df[start_idx:end_idx])\n",
    "            print(i, l, eps)\n",
    "\n",
    "        mu_sol_tab += [current_fields.copy()]\n",
    "    sol_tab += [mu_sol_tab]"
   ]
  },
  {
   "cell_type": "code",
   "execution_count": 13,
   "id": "11989786",
   "metadata": {},
   "outputs": [
    {
     "data": {
      "image/png": "[encoded data removed]",
      "text/plain": [
       "<Figure size 640x480 with 1 Axes>"
      ]
     },
     "metadata": {},
     "output_type": "display_data"
    }
   ],
   "source": [
    "import matplotlib.pyplot as plt\n",
    "plt.rcParams['text.usetex'] = True\n",
    "\n",
    "plt.plot(r_vec, sol_tab[0][0][0], '-o', label=r'$\\psi$')\n",
    "plt.plot(r_vec, sol_tab[0][0][1], '-o', label=r'$\\phi$')\n",
    "plt.plot(r_vec, sol_tab[0][0][2], '-o', label=r'$\\zeta$')\n",
    "plt.xlabel('r')\n",
    "plt.legend()\n",
    "plt.title(\"Background Functions in Probe Holographic Superconductor\")\n",
    "plt.show()"
   ]
  },
  {
   "cell_type": "code",
   "execution_count": 14,
   "id": "a8548194",
   "metadata": {},
   "outputs": [],
   "source": [
    "Otab = [[sol_tab[i][j][0][0] for j in range(Num_mu_s+1)] for i in range(Num_mu+1)]"
   ]
  },
  {
   "cell_type": "code",
   "execution_count": 15,
   "id": "6dc345f0",
   "metadata": {},
   "outputs": [
    {
     "data": {
      "image/png": "[encoded data removed]",
      "text/plain": [
       "<Figure size 640x480 with 1 Axes>"
      ]
     },
     "metadata": {},
     "output_type": "display_data"
    }
   ],
   "source": [
    "plt.plot([1/mu_vec[k] for k in range(Num_mu+1)], [Otab[k][0] for k in range(Num_mu+1)], '-o')\n",
    "plt.plot([1/mu_vec[k] for k in range(Num_mu+1)], [Otab[k][1] for k in range(Num_mu+1)], '-o')\n",
    "plt.xlabel(r'$1/\\mu$')\n",
    "plt.ylabel(r'$\\langle O \\rangle$')\n",
    "plt.title(\"Condensate Density in Probe Holographic Superconductor\")\n",
    "plt.show()"
   ]
  },
  {
   "cell_type": "markdown",
   "id": "7e5b05c6",
   "metadata": {},
   "source": [
    "### Find Quasinormal Modes"
   ]
  },
  {
   "cell_type": "markdown",
   "id": "149f25eb",
   "metadata": {},
   "source": [
    "Instantiate Linear Solver"
   ]
  },
  {
   "cell_type": "code",
   "execution_count": 16,
   "id": "52af2b4b",
   "metadata": {},
   "outputs": [],
   "source": [
    "# Instantiate a solver\n",
    "lin_fields = [sigmar, sigmai, at, ax]\n",
    "dlin_fields = [Function('dsigma_r')(r), Function('dsigma_i')(r), Function('dat')(r), Function('dax')(r)]\n",
    "lin_parameters=[kwave]\n",
    "\n",
    "lin_sol_tab = []\n",
    "lin_solver = Eigenvalue(\n",
    "    linear_eoms, \n",
    "    linear_bcs, \n",
    "    lin_fields, \n",
    "    dlin_fields, \n",
    "    fields, \n",
    "    lin_parameters, \n",
    "    omega, \n",
    "    spatial_grid, \n",
    "    r, \n",
    "    [0,1],\n",
    "    precision = MIN_PRECISION)"
   ]
  },
  {
   "cell_type": "code",
   "execution_count": 17,
   "id": "ee2d8389",
   "metadata": {},
   "outputs": [],
   "source": [
    "Nk = 10\n",
    "k_min, k_max = N(10**(-3),MIN_PRECISION), N(10**(-1),MIN_PRECISION)\n",
    "k_grid = Grid(Nk, k_min, k_max, MIN_PRECISION)\n",
    "k_tab = k_grid.get_grid()\n",
    "eigs_tab = [[[[] for k in range(Nk+1)] for j in range(Num_mu_s)] for i in range(Num_mu)]"
   ]
  },
  {
   "cell_type": "markdown",
   "id": "c5195a31",
   "metadata": {},
   "source": [
    "Find eigenvalues of the generalized eigenvalue problem. If as_numpy = False, this will refine the numpy eigenvalues using Newton refinement. Note that the refinement is quite slow. You can select eigenvalues to refine based on their norm using max_norm. "
   ]
  },
  {
   "cell_type": "code",
   "execution_count": 18,
   "id": "34a24b0f",
   "metadata": {},
   "outputs": [
    {
     "name": "stdout",
     "output_type": "stream",
     "text": [
      "step 0: 0.16550087928771973 seconds\n",
      "step 1: 0.15651893615722656 seconds\n",
      "step 2: 0.15625596046447754 seconds\n",
      "step 3: 0.15572190284729004 seconds\n",
      "step 4: 0.15595602989196777 seconds\n",
      "step 5: 0.15622234344482422 seconds\n",
      "step 6: 0.1565842628479004 seconds\n",
      "step 7: 0.15567398071289062 seconds\n",
      "step 8: 0.15785884857177734 seconds\n",
      "step 9: 0.15559816360473633 seconds\n",
      "step 10: 0.17728424072265625 seconds\n"
     ]
    }
   ],
   "source": [
    "# for l in range(Num_mu):\n",
    "#     for j in range(Num_mu_s):\n",
    "for l in range(1):\n",
    "    for j in range(1):\n",
    "        for i in range(Nk+1):\n",
    "            start = time.time()\n",
    "            eigs_tab[l][j][i]=lin_solver.find_eigenvalue(\n",
    "                sol_tab[l][j],\n",
    "                {kwave: k_tab[i]}, \n",
    "                print_time = False, \n",
    "                as_numpy = False,\n",
    "                precision = MIN_PRECISION,\n",
    "                max_norm = 2).copy()\n",
    "            end = time.time()\n",
    "            print(f\"step {i}: {end-start} seconds\")"
   ]
  },
  {
   "cell_type": "code",
   "execution_count": 19,
   "id": "f2fec1e7",
   "metadata": {},
   "outputs": [
    {
     "data": {
      "text/plain": [
       "[mpc(real='-0.543074918512566583605186313024204', imag='0.000157655264464383331526352416226886'),\n",
       " mpc(real='0.543074524522718535780879660097803', imag='0.000157655006412581800487707953803837')]"
      ]
     },
     "execution_count": 19,
     "metadata": {},
     "output_type": "execute_result"
    }
   ],
   "source": [
    "eigs_tab[0][0][0]"
   ]
  },
  {
   "cell_type": "code",
   "execution_count": 20,
   "id": "86527244",
   "metadata": {},
   "outputs": [
    {
     "data": {
      "text/plain": [
       "(-0.5430749185125666+0.00015765526446438334j)"
      ]
     },
     "execution_count": 20,
     "metadata": {},
     "output_type": "execute_result"
    }
   ],
   "source": [
    "np.complex128(eigs_tab[0][0][0][0])"
   ]
  },
  {
   "cell_type": "markdown",
   "id": "57b2587d",
   "metadata": {},
   "source": [
    "Look for possible hydrodynamic modes"
   ]
  },
  {
   "cell_type": "code",
   "execution_count": 21,
   "id": "4aaa91d1",
   "metadata": {},
   "outputs": [],
   "source": [
    "possible_modes = [[[[] for _ in range(Nk+1)] for j in range(Num_mu_s)] for i in range(Num_mu)]\n",
    "\n",
    "for l in range(Num_mu):\n",
    "    for m in range(Num_mu_s):\n",
    "        for i in range(Nk+1):\n",
    "            for j in range(len(eigs_tab[l][m][i])):\n",
    "                if np.isnan(np.complex128(eigs_tab[l][m][i][j])):\n",
    "                    pass\n",
    "                elif 10**(-1) < np.abs(np.complex128(eigs_tab[l][m][i][j])) < 1:\n",
    "                    possible_modes[l][m][i]+=[np.complex128(eigs_tab[l][m][i][j])]"
   ]
  },
  {
   "cell_type": "code",
   "execution_count": 22,
   "id": "05b53806",
   "metadata": {},
   "outputs": [
    {
     "data": {
      "text/plain": [
       "[[(-0.5430749185125666+0.00015765526446438334j),\n",
       "  (0.5430745245227185+0.0001576550064125818j)],\n",
       " [(-0.5430738762120569+0.0005395813808160485j),\n",
       "  (0.5430734822285024+0.0005395804975999866j)],\n",
       " [(0.5430640120183482+0.0016472798628608084j),\n",
       "  (-0.543064405941893+0.0016472825574242273j)],\n",
       " [(-0.5430308400470192+0.003367728343705258j),\n",
       "  (0.5430304463357053+0.0033677228463418747j)],\n",
       " [(-0.5429573583698116+0.00551984350949567j),\n",
       "  (0.5429569651256182+0.005519834540511964j)],\n",
       " [(-0.542839105492138+0.007873391277557436j),\n",
       "  (0.5428387130073545+0.00787337858118207j)],\n",
       " [(-0.5426884114662159+0.010180889372302274j),\n",
       "  (0.5426880199654361+0.010180873118740167j)],\n",
       " [(-0.5425312956390028+0.012213734966595922j),\n",
       "  (0.5425309051881262+0.012213715679827854j)],\n",
       " [(-0.5423969245375675+0.013789282838542962j),\n",
       "  (0.5423965350089078+0.013789261276930375j)],\n",
       " [(-0.5423079587437537+0.01478175250653734j),\n",
       "  (0.5423075698408558+0.01478172954977934j)],\n",
       " [(-0.5422770331272311+0.015120125124589481j),\n",
       "  (0.5422766444452078+0.015120101699218166j)]]"
      ]
     },
     "execution_count": 22,
     "metadata": {},
     "output_type": "execute_result"
    }
   ],
   "source": [
    "possible_modes[0][0]"
   ]
  },
  {
   "cell_type": "markdown",
   "id": "f29d858a",
   "metadata": {},
   "source": [
    "Plot the result"
   ]
  },
  {
   "cell_type": "code",
   "execution_count": 23,
   "id": "365b01d2",
   "metadata": {},
   "outputs": [
    {
     "data": {
      "image/png": "[encoded data removed]",
      "text/plain": [
       "<Figure size 640x480 with 1 Axes>"
      ]
     },
     "metadata": {},
     "output_type": "display_data"
    }
   ],
   "source": [
    "plt.plot(k_tab[3:-1],[np.abs(possible_modes[0][0][k][0].real) for k in range(3,Nk)], '-o')\n",
    "plt.xlabel(r'$k$')\n",
    "plt.ylabel(r'$\\Re(\\omega)/k$')\n",
    "plt.title(\"Velocity of second sound\")\n",
    "plt.show()"
   ]
  },
  {
   "cell_type": "code",
   "execution_count": 24,
   "id": "47a96596",
   "metadata": {},
   "outputs": [
    {
     "data": {
      "image/png": "[encoded data removed]",
      "text/plain": [
       "<Figure size 640x480 with 1 Axes>"
      ]
     },
     "metadata": {},
     "output_type": "display_data"
    }
   ],
   "source": [
    "plt.plot(k_tab[3:-1],[np.abs(possible_modes[0][0][k][0].imag)/k_tab[k] for k in range(3,Nk)], '-o')\n",
    "plt.xlabel(r'$k$')\n",
    "plt.ylabel(r'$\\Re(\\omega)/k$')\n",
    "plt.title(\"Atenuation of second sound\")\n",
    "plt.show()"
   ]
  },
  {
   "cell_type": "markdown",
   "id": "1a8958d2",
   "metadata": {},
   "source": [
    "### Hydrodynamics"
   ]
  },
  {
   "cell_type": "markdown",
   "id": "25153933",
   "metadata": {},
   "source": [
    "An example of calculating second sound velocity"
   ]
  },
  {
   "cell_type": "code",
   "execution_count": 25,
   "id": "0fd774e7",
   "metadata": {},
   "outputs": [],
   "source": [
    "rho_tab = [[sol_tab[i][j][1][0]-(spatial_grid.D1()[0,:]*sol_tab[i][j][1])[0] for j in range(Num_mu_s+1)] for i in range(Num_mu+1)]\n",
    "Jx_tab = [[-(spatial_grid.D1()[0,:]*sol_tab[i][j][2])[0] for j in range(Num_mu_s+1)] for i in range(Num_mu+1)]\n",
    "rho_s_tab = [[mu_vec[k]/mu_s_vec[j]*Jx_tab[k][j] for j in range(Num_mu_s+1)] for k in range(Num_mu+1)]\n",
    "drho_dzeta = [[(mu_s_grid.D1()[k,:]*Matrix(rho_tab[j]))[0] for k in range(Num_mu_s+1)] for j in range(Num_mu+1)]\n",
    "drho_dmu = [[(mu_grid.D1()[j,:]*Matrix(rho_tab)[:,k])[0] for k in range(Num_mu_s+1)] for j in range(Num_mu+1)]\n",
    "drho_s_dzeta = [[(mu_s_grid.D1()[k,:]*Matrix(rho_s_tab[j]))[0] for k in range(Num_mu_s+1)] for j in range(Num_mu+1)]"
   ]
  },
  {
   "cell_type": "code",
   "execution_count": 26,
   "id": "247d7a5d",
   "metadata": {},
   "outputs": [],
   "source": [
    "chi_nsh, rho_s, chi_nh, chi_nn = symbols('chi_nsh rho_s chi_nh chi_nn')\n",
    "chi_xi_xi = mu/(mus*chi_nsh+rho_s)\n",
    "velocity_minus = chi_nh/chi_nn - sqrt(chi_nh**2/chi_nn**2+1/(chi_nn*chi_xi_xi))"
   ]
  },
  {
   "cell_type": "code",
   "execution_count": 27,
   "id": "972df394",
   "metadata": {},
   "outputs": [
    {
     "data": {
      "text/latex": [
       "$\\displaystyle \\frac{\\chi_{nh}}{\\chi_{nn}} - \\sqrt{\\frac{\\chi_{nh}^{2}}{\\chi_{nn}^{2}} + \\frac{\\chi_{nsh} \\mu_{s} + \\rho_{s}}{\\chi_{nn} \\mu}}$"
      ],
      "text/plain": [
       "chi_nh/chi_nn - sqrt(chi_nh**2/chi_nn**2 + (chi_nsh*mu_s + rho_s)/(chi_nn*mu))"
      ]
     },
     "execution_count": 27,
     "metadata": {},
     "output_type": "execute_result"
    }
   ],
   "source": [
    "velocity_minus"
   ]
  },
  {
   "cell_type": "code",
   "execution_count": 28,
   "id": "8d52fc86",
   "metadata": {},
   "outputs": [],
   "source": [
    "v_min_tab = [\n",
    "    [velocity_minus\n",
    "     .subs(chi_nsh,drho_s_dzeta[i][j])\n",
    "     .subs(chi_nn,drho_dmu[i][j])\n",
    "     .subs(chi_nh,drho_dzeta[i][j])\n",
    "     .subs(mus,mu_s_vec[j])\n",
    "     .subs(mu,mu_vec[i])\n",
    "     .subs(rho_s,rho_s_tab[i][j]) \n",
    "     for j in range(Num_mu_s+1)] \n",
    "     for i in range(Num_mu+1)]"
   ]
  },
  {
   "cell_type": "markdown",
   "id": "f8cf1e9f",
   "metadata": {},
   "source": [
    "Check the matching"
   ]
  },
  {
   "cell_type": "code",
   "execution_count": 29,
   "id": "b8bd7b53",
   "metadata": {},
   "outputs": [
    {
     "data": {
      "text/latex": [
       "$\\displaystyle -0.58497320131446750693646$"
      ],
      "text/plain": [
       "-0.584973201314467506936460"
      ]
     },
     "execution_count": 29,
     "metadata": {},
     "output_type": "execute_result"
    }
   ],
   "source": [
    "v_min_tab[0][0]"
   ]
  },
  {
   "cell_type": "code",
   "execution_count": 30,
   "id": "d6e2ace5",
   "metadata": {},
   "outputs": [
    {
     "data": {
      "text/plain": [
       "[(-0.5422770331272311+0.015120125124589481j),\n",
       " (0.5422766444452078+0.015120101699218166j)]"
      ]
     },
     "execution_count": 30,
     "metadata": {},
     "output_type": "execute_result"
    }
   ],
   "source": [
    "possible_modes[0][0][-1]"
   ]
  },
  {
   "cell_type": "markdown",
   "id": "2ac6a93e",
   "metadata": {},
   "source": [
    "So they match to high accuracy!"
   ]
  }
 ],
 "metadata": {
  "kernelspec": {
   "display_name": "base",
   "language": "python",
   "name": "python3"
  },
  "language_info": {
   "codemirror_mode": {
    "name": "ipython",
    "version": 3
   },
   "file_extension": ".py",
   "mimetype": "text/x-python",
   "name": "python",
   "nbconvert_exporter": "python",
   "pygments_lexer": "ipython3",
   "version": "3.12.7"
  }
 },
 "nbformat": 4,
 "nbformat_minor": 5
}
